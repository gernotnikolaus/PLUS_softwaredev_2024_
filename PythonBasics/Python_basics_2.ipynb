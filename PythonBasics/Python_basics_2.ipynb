{
 "cells": [
  {
   "cell_type": "code",
   "execution_count": 1,
   "id": "dab9fc24-21b4-4038-abba-36e22de00dd9",
   "metadata": {},
   "outputs": [
    {
     "name": "stdout",
     "output_type": "stream",
     "text": [
      "This is a stamenent!\n"
     ]
    }
   ],
   "source": [
    "print(\"This is a stamenent!\")"
   ]
  },
  {
   "cell_type": "code",
   "execution_count": 2,
   "id": "15645c1a-77ac-432f-8524-0b8199c493b2",
   "metadata": {},
   "outputs": [],
   "source": [
    "list = [1, 3, 51, 31, 21]"
   ]
  },
  {
   "cell_type": "code",
   "execution_count": 3,
   "id": "55fbc2a8-848a-4319-ac92-7ee3bca288c6",
   "metadata": {},
   "outputs": [
    {
     "name": "stdout",
     "output_type": "stream",
     "text": [
      "[1, 3, 51, 31, 21]\n"
     ]
    }
   ],
   "source": [
    "print(list)"
   ]
  },
  {
   "cell_type": "code",
   "execution_count": 10,
   "id": "3afccb45-d121-4da6-904a-0690206373e2",
   "metadata": {},
   "outputs": [
    {
     "name": "stdout",
     "output_type": "stream",
     "text": [
      "min of the list: 1\n",
      "max of the list: 51\n",
      "sum of the list: 107\n"
     ]
    }
   ],
   "source": [
    "print(\"min of the list: \" + str(min(list)))\n",
    "print(\"max of the list: \" + str(max(list)))\n",
    "print(\"sum of the list: \" + str(sum(list)))\n"
   ]
  },
  {
   "cell_type": "code",
   "execution_count": 13,
   "id": "bf378fc0-558c-4fa6-9ef5-b4f6869cd588",
   "metadata": {},
   "outputs": [
    {
     "data": {
      "text/plain": [
       "100"
      ]
     },
     "execution_count": 13,
     "metadata": {},
     "output_type": "execute_result"
    }
   ],
   "source": [
    "abs(100)"
   ]
  },
  {
   "cell_type": "code",
   "execution_count": 42,
   "id": "cf625775-c12a-44bb-a40c-41d94ac21d13",
   "metadata": {},
   "outputs": [
    {
     "name": "stdout",
     "output_type": "stream",
     "text": [
      "[640, 891, 117, 99, 823, 473, 24, 705, 609, 426]\n",
      "\n",
      "min of the list: 24\n",
      "max of the list: 891\n",
      "sum of the list: 4807\n",
      "\n",
      "length of the list: 10\n",
      "sorted of the list: [24, 99, 117, 426, 473, 609, 640, 705, 823, 891]\n"
     ]
    }
   ],
   "source": [
    "import random\n",
    "count = 10\n",
    "counter = 0\n",
    "random_range = 1000\n",
    "random_list = []\n",
    "\n",
    "while(counter < count):\n",
    "    random_list.append(random.randint(0, random_range))\n",
    "    counter = counter + 1\n",
    "\n",
    "print(random_list)\n",
    "print()\n",
    "print(\"min of the list: \" + str(min(random_list)))\n",
    "print(\"max of the list: \" + str(max(random_list)))\n",
    "print(\"sum of the list: \" + str(sum(random_list)))\n",
    "print()\n",
    "print(\"length of the list: \" + str(len(random_list)))\n",
    "print(\"sorted of the list: \" + str(sorted(random_list)))"
   ]
  },
  {
   "cell_type": "code",
   "execution_count": 52,
   "id": "79877364-a266-4e9d-9103-c6aeb5a4ad02",
   "metadata": {},
   "outputs": [
    {
     "name": "stdout",
     "output_type": "stream",
     "text": [
      "Whatse time?\n",
      "2024-04-22 11:33:45.508667\n"
     ]
    }
   ],
   "source": [
    "from datetime import datetime\n",
    "time = datetime.now()\n",
    "print(\"Whatse time?\")\n",
    "print (time)"
   ]
  },
  {
   "cell_type": "code",
   "execution_count": 67,
   "id": "c9a4d705-28b5-4772-b050-a45a12f4ef74",
   "metadata": {
    "tags": []
   },
   "outputs": [],
   "source": [
    "import random\n",
    "def randomNum(range):\n",
    "    x = random.randint(0, range)\n",
    "    return x"
   ]
  },
  {
   "cell_type": "code",
   "execution_count": 70,
   "id": "93ae0050-dbaf-48a8-83d1-4e27e109b9bb",
   "metadata": {},
   "outputs": [
    {
     "name": "stdout",
     "output_type": "stream",
     "text": [
      "6\n"
     ]
    }
   ],
   "source": [
    "print(randomNum(10))"
   ]
  },
  {
   "cell_type": "code",
   "execution_count": 79,
   "id": "0341c7d4-d57b-4134-bda0-102d8d844048",
   "metadata": {},
   "outputs": [
    {
     "name": "stdout",
     "output_type": "stream",
     "text": [
      "1\n"
     ]
    }
   ],
   "source": [
    "import randomNumber\n",
    "print(randomNumber.randomNum(10))"
   ]
  },
  {
   "cell_type": "code",
   "execution_count": 80,
   "id": "c2750fce-be15-4077-9b36-84012244df7c",
   "metadata": {},
   "outputs": [
    {
     "name": "stdout",
     "output_type": "stream",
     "text": [
      "9\n"
     ]
    }
   ],
   "source": [
    "from randomNumber import randomNum\n",
    "print(randomNum(10))"
   ]
  },
  {
   "cell_type": "code",
   "execution_count": 82,
   "id": "bb9f1e04-653e-4b6e-a2f0-f72b29711bbd",
   "metadata": {},
   "outputs": [
    {
     "name": "stdout",
     "output_type": "stream",
     "text": [
      "[5, 5, 6, 5, 10, 10, 2, 6, 8, 2]\n",
      "\n",
      "min of the list: 2\n",
      "max of the list: 10\n",
      "sum of the list: 59\n",
      "\n",
      "length of the list: 10\n",
      "sorted of the list: [2, 2, 5, 5, 5, 6, 6, 8, 10, 10]\n"
     ]
    }
   ],
   "source": [
    "from randomList import randomList\n",
    "randomList(10)"
   ]
  },
  {
   "cell_type": "code",
   "execution_count": null,
   "id": "8c70c411-fb16-4755-b9ca-dd851452c22f",
   "metadata": {},
   "outputs": [],
   "source": []
  }
 ],
 "metadata": {
  "kernelspec": {
   "display_name": "Python 3 (ipykernel)",
   "language": "python",
   "name": "python3"
  },
  "language_info": {
   "codemirror_mode": {
    "name": "ipython",
    "version": 3
   },
   "file_extension": ".py",
   "mimetype": "text/x-python",
   "name": "python",
   "nbconvert_exporter": "python",
   "pygments_lexer": "ipython3",
   "version": "3.9.18"
  }
 },
 "nbformat": 4,
 "nbformat_minor": 5
}
