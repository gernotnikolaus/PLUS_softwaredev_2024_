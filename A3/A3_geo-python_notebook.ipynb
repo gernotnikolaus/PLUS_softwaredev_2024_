{
 "cells": [
  {
   "cell_type": "markdown",
   "id": "0fa19248-89bc-494b-8388-12253848457a",
   "metadata": {},
   "source": [
    "# Software Development Assignment 3: geo-python notebook\n",
    "\n",
    "In our final project, our team would like to create a Python package for GEE to calculate and map vegetation indices and derive time series. This task aims to obtain the Python API and calculate one of the indices. The Folium package will be used for this purpose. The work will be done in JupyterLab."
   ]
  },
  {
   "cell_type": "markdown",
   "id": "621cb853-3d33-4bb6-b0a0-8a3e7488b559",
   "metadata": {
    "jp-MarkdownHeadingCollapsed": true
   },
   "source": [
    "## Work beforehand in the anaconda terminal\n",
    "- move to the directory: ```cd \"OneDrive - Universität Salzburg\\SS24\\Software Development\\A3\"```\n",
    "- create a3_gee conda environment:  ```conda create -n a3_gee```\n",
    "- activate environment: ```conda activate a3_gee```\n",
    "- installing the ee package: ```conda install -c conda-forge earthengine-api```\n",
    "- installing pykernel: ```conda install ipykernel```\n",
    "- installing folium: ```python -m pip install folium```\n",
    "- installing jupyterlab: ```pip install jupyterlab```\n",
    "- going in jupyterlab: ```jupyter lab```\n",
    "- creating a new ipynb file"
   ]
  },
  {
   "cell_type": "markdown",
   "id": "f506a62a-8b2b-4a88-8ee8-2391dd3503a9",
   "metadata": {},
   "source": [
    "## Work in Jupyter lab\n",
    "- importing of ee and folium, and initialization\n",
    "- setting the area of interest\n",
    "- setting the time period\n",
    "- getting the imagery with less cloud\n",
    "- calculation of indice\n",
    "- mapping the layer"
   ]
  },
  {
   "cell_type": "markdown",
   "id": "1cdb9068-36ae-46f3-b49c-74b5b96dbcf4",
   "metadata": {},
   "source": [
    "## Import and initialization"
   ]
  },
  {
   "cell_type": "code",
   "execution_count": 1,
   "id": "45135e2a-33b7-42ba-b723-c7d02cdde4e6",
   "metadata": {
    "scrolled": true
   },
   "outputs": [],
   "source": [
    "# import ee and folium\n",
    "import ee\n",
    "import folium"
   ]
  },
  {
   "cell_type": "code",
   "execution_count": 2,
   "id": "8372da29-f240-4457-bdd4-fa5d283dd9ae",
   "metadata": {},
   "outputs": [
    {
     "data": {
      "text/html": [
       "<p>To authorize access needed by Earth Engine, open the following\n",
       "        URL in a web browser and follow the instructions:</p>\n",
       "        <p><a href=https://code.earthengine.google.com/client-auth?scopes=https%3A//www.googleapis.com/auth/earthengine%20https%3A//www.googleapis.com/auth/cloud-platform%20https%3A//www.googleapis.com/auth/devstorage.full_control&request_id=1LRpkR5wV9Og2udXbdEERkY9Zh_ClYoLwTnwOSR25wY&tc=gphrhL8IJwbSuMHSq9twwUHuPFHwRK3LGCo54hkU-8M&cc=ci4RhPnIfoA6mG7b1s2tIz0IWchHqGMnl7aaDY9Eh8Q>https://code.earthengine.google.com/client-auth?scopes=https%3A//www.googleapis.com/auth/earthengine%20https%3A//www.googleapis.com/auth/cloud-platform%20https%3A//www.googleapis.com/auth/devstorage.full_control&request_id=1LRpkR5wV9Og2udXbdEERkY9Zh_ClYoLwTnwOSR25wY&tc=gphrhL8IJwbSuMHSq9twwUHuPFHwRK3LGCo54hkU-8M&cc=ci4RhPnIfoA6mG7b1s2tIz0IWchHqGMnl7aaDY9Eh8Q</a></p>\n",
       "        <p>The authorization workflow will generate a code, which you should paste in the box below.</p>\n",
       "        "
      ],
      "text/plain": [
       "<IPython.core.display.HTML object>"
      ]
     },
     "metadata": {},
     "output_type": "display_data"
    },
    {
     "name": "stdin",
     "output_type": "stream",
     "text": [
      "Enter verification code:  4/1AdLIrYe5vL8unfksqXR056gZRJbIBsT9LUpP5rsB5L6zj2bX0pAF2jafDfQ\n"
     ]
    },
    {
     "name": "stdout",
     "output_type": "stream",
     "text": [
      "\n",
      "Successfully saved authorization token.\n"
     ]
    }
   ],
   "source": [
    "#authentificate, generate token and allow access rights\n",
    "ee.Authenticate()"
   ]
  },
  {
   "cell_type": "code",
   "execution_count": 4,
   "id": "1167fa74-6815-4aab-8262-d9fc76cbebb0",
   "metadata": {},
   "outputs": [],
   "source": [
    "ee.Initialize()"
   ]
  },
  {
   "cell_type": "markdown",
   "id": "b1d2f2eb-2d3d-4bd9-8177-d5663ad977de",
   "metadata": {},
   "source": [
    "## Setting the area of interest"
   ]
  },
  {
   "cell_type": "code",
   "execution_count": 5,
   "id": "02a7116a-6e27-44f1-985b-6ada446f5b5e",
   "metadata": {},
   "outputs": [],
   "source": [
    "# area of interest in olomouc, czechia\n",
    "aoi = ee.Geometry.Rectangle(17.22,\n",
    "                            49.61,\n",
    "                            17.26,\n",
    "                            49.63)"
   ]
  },
  {
   "cell_type": "markdown",
   "id": "a0761ce5-1be4-435d-8962-715465dbd51d",
   "metadata": {},
   "source": [
    "## Setting period of time"
   ]
  },
  {
   "cell_type": "code",
   "execution_count": 6,
   "id": "a84482d2-0890-436b-b880-97e18342bbc3",
   "metadata": {},
   "outputs": [],
   "source": [
    "# set the start and end date\n",
    "start_date = '2023-01-01'\n",
    "end_date = '2023-12-31'"
   ]
  },
  {
   "cell_type": "markdown",
   "id": "d96f1fc7-2a2c-436f-82c5-105118a7c493",
   "metadata": {},
   "source": [
    "## Data"
   ]
  },
  {
   "cell_type": "code",
   "execution_count": 7,
   "id": "3066919c-735d-441b-83f7-88041c6f4d99",
   "metadata": {},
   "outputs": [
    {
     "name": "stderr",
     "output_type": "stream",
     "text": [
      "C:\\Users\\gerno\\miniconda3\\envs\\a3_gee\\Lib\\site-packages\\ee\\deprecation.py:202: DeprecationWarning: \n",
      "\n",
      "Attention required for COPERNICUS/S2! You are using a deprecated asset.\n",
      "To ensure continued functionality, please update it.\n",
      "Learn more: https://developers.google.com/earth-engine/datasets/catalog/COPERNICUS_S2\n",
      "\n",
      "  warnings.warn(warning, category=DeprecationWarning)\n"
     ]
    },
    {
     "name": "stdout",
     "output_type": "stream",
     "text": [
      "48\n"
     ]
    }
   ],
   "source": [
    "# select sentinel 2 imagery\n",
    "s2_collection = ee.ImageCollection('COPERNICUS/S2').filterBounds(aoi).filterDate(start_date, end_date)\n",
    "s2_collection = s2_collection.filterMetadata('CLOUDY_PIXEL_PERCENTAGE', 'less_than', 20);\n",
    "\n",
    "# amount of images in the selection\n",
    "print(s2_collection.size().getInfo())\n",
    "\n",
    "# reduce collection to mean\n",
    "mean_collection = s2_collection.reduce(ee.Reducer.mean())"
   ]
  },
  {
   "cell_type": "markdown",
   "id": "0feb695c-e65e-49c8-9b95-d544bf3720eb",
   "metadata": {},
   "source": [
    "## Calculating EVI"
   ]
  },
  {
   "cell_type": "code",
   "execution_count": 8,
   "id": "f40f417c-877a-471d-ba7f-b6a3674bef23",
   "metadata": {},
   "outputs": [],
   "source": [
    "# function to calculate the EVI\n",
    "def calculate_evi(image):\n",
    "    evi = image.expression(\n",
    "        '2.5 * ((NIR - RED) / (NIR + 6 * RED - 7.5 * BLUE + 1))',\n",
    "        {\n",
    "            'NIR': image.select('B8_mean'),\n",
    "            'RED': image.select('B4_mean'),\n",
    "            'BLUE': image.select('B2_mean')\n",
    "        })\n",
    "    return evi.rename('EVI')"
   ]
  },
  {
   "cell_type": "code",
   "execution_count": 9,
   "id": "81b1f877-1a2d-4308-81ac-2d0801db19f4",
   "metadata": {},
   "outputs": [],
   "source": [
    "# calculate the evi\n",
    "evi_mean = calculate_evi(mean_collection)\n",
    "# clip it to the aoi\n",
    "evi_mean = evi_mean.clip(aoi)"
   ]
  },
  {
   "cell_type": "markdown",
   "id": "e06da75a-498e-4480-a20f-a600610e030b",
   "metadata": {},
   "source": [
    "## Mapping"
   ]
  },
  {
   "cell_type": "code",
   "execution_count": 11,
   "id": "49405176-c4c4-4a71-bac5-9adcd30166ae",
   "metadata": {},
   "outputs": [
    {
     "data": {
      "text/html": [
       "<div style=\"width:100%;\"><div style=\"position:relative;width:100%;height:0;padding-bottom:60%;\"><span style=\"color:#565656\">Make this Notebook Trusted to load map: File -> Trust Notebook</span><iframe srcdoc=\"&lt;!DOCTYPE html&gt;\n",
       "&lt;html&gt;\n",
       "&lt;head&gt;\n",
       "    \n",
       "    &lt;meta http-equiv=&quot;content-type&quot; content=&quot;text/html; charset=UTF-8&quot; /&gt;\n",
       "    \n",
       "        &lt;script&gt;\n",
       "            L_NO_TOUCH = false;\n",
       "            L_DISABLE_3D = false;\n",
       "        &lt;/script&gt;\n",
       "    \n",
       "    &lt;style&gt;html, body {width: 100%;height: 100%;margin: 0;padding: 0;}&lt;/style&gt;\n",
       "    &lt;style&gt;#map {position:absolute;top:0;bottom:0;right:0;left:0;}&lt;/style&gt;\n",
       "    &lt;script src=&quot;https://cdn.jsdelivr.net/npm/leaflet@1.9.3/dist/leaflet.js&quot;&gt;&lt;/script&gt;\n",
       "    &lt;script src=&quot;https://code.jquery.com/jquery-3.7.1.min.js&quot;&gt;&lt;/script&gt;\n",
       "    &lt;script src=&quot;https://cdn.jsdelivr.net/npm/bootstrap@5.2.2/dist/js/bootstrap.bundle.min.js&quot;&gt;&lt;/script&gt;\n",
       "    &lt;script src=&quot;https://cdnjs.cloudflare.com/ajax/libs/Leaflet.awesome-markers/2.0.2/leaflet.awesome-markers.js&quot;&gt;&lt;/script&gt;\n",
       "    &lt;link rel=&quot;stylesheet&quot; href=&quot;https://cdn.jsdelivr.net/npm/leaflet@1.9.3/dist/leaflet.css&quot;/&gt;\n",
       "    &lt;link rel=&quot;stylesheet&quot; href=&quot;https://cdn.jsdelivr.net/npm/bootstrap@5.2.2/dist/css/bootstrap.min.css&quot;/&gt;\n",
       "    &lt;link rel=&quot;stylesheet&quot; href=&quot;https://netdna.bootstrapcdn.com/bootstrap/3.0.0/css/bootstrap.min.css&quot;/&gt;\n",
       "    &lt;link rel=&quot;stylesheet&quot; href=&quot;https://cdn.jsdelivr.net/npm/@fortawesome/fontawesome-free@6.2.0/css/all.min.css&quot;/&gt;\n",
       "    &lt;link rel=&quot;stylesheet&quot; href=&quot;https://cdnjs.cloudflare.com/ajax/libs/Leaflet.awesome-markers/2.0.2/leaflet.awesome-markers.css&quot;/&gt;\n",
       "    &lt;link rel=&quot;stylesheet&quot; href=&quot;https://cdn.jsdelivr.net/gh/python-visualization/folium/folium/templates/leaflet.awesome.rotate.min.css&quot;/&gt;\n",
       "    \n",
       "            &lt;meta name=&quot;viewport&quot; content=&quot;width=device-width,\n",
       "                initial-scale=1.0, maximum-scale=1.0, user-scalable=no&quot; /&gt;\n",
       "            &lt;style&gt;\n",
       "                #map_50197cf04e09a2318bdd2177bc27befb {\n",
       "                    position: relative;\n",
       "                    width: 100.0%;\n",
       "                    height: 100.0%;\n",
       "                    left: 0.0%;\n",
       "                    top: 0.0%;\n",
       "                }\n",
       "                .leaflet-container { font-size: 1rem; }\n",
       "            &lt;/style&gt;\n",
       "        \n",
       "&lt;/head&gt;\n",
       "&lt;body&gt;\n",
       "    \n",
       "    \n",
       "            &lt;div class=&quot;folium-map&quot; id=&quot;map_50197cf04e09a2318bdd2177bc27befb&quot; &gt;&lt;/div&gt;\n",
       "        \n",
       "&lt;/body&gt;\n",
       "&lt;script&gt;\n",
       "    \n",
       "    \n",
       "            var map_50197cf04e09a2318bdd2177bc27befb = L.map(\n",
       "                &quot;map_50197cf04e09a2318bdd2177bc27befb&quot;,\n",
       "                {\n",
       "                    center: [49.61, 17.26],\n",
       "                    crs: L.CRS.EPSG3857,\n",
       "                    zoom: 12,\n",
       "                    zoomControl: true,\n",
       "                    preferCanvas: false,\n",
       "                }\n",
       "            );\n",
       "\n",
       "            \n",
       "\n",
       "        \n",
       "    \n",
       "            var tile_layer_914d53a8026c60925fa0bd1e1bebd15e = L.tileLayer(\n",
       "                &quot;https://tile.openstreetmap.org/{z}/{x}/{y}.png&quot;,\n",
       "                {&quot;attribution&quot;: &quot;\\u0026copy; \\u003ca href=\\&quot;https://www.openstreetmap.org/copyright\\&quot;\\u003eOpenStreetMap\\u003c/a\\u003e contributors&quot;, &quot;detectRetina&quot;: false, &quot;maxNativeZoom&quot;: 19, &quot;maxZoom&quot;: 19, &quot;minZoom&quot;: 0, &quot;noWrap&quot;: false, &quot;opacity&quot;: 1, &quot;subdomains&quot;: &quot;abc&quot;, &quot;tms&quot;: false}\n",
       "            );\n",
       "        \n",
       "    \n",
       "            tile_layer_914d53a8026c60925fa0bd1e1bebd15e.addTo(map_50197cf04e09a2318bdd2177bc27befb);\n",
       "        \n",
       "    \n",
       "            var tile_layer_0b2eb3901f8e5a9de9e10224a9cab613 = L.tileLayer(\n",
       "                &quot;https://earthengine.googleapis.com/v1/projects/earthengine-legacy/maps/4d3637fc55fae2d08cd9d3ef54116b9f-34a05306099de8157baf244d15343b67/tiles/{z}/{x}/{y}&quot;,\n",
       "                {&quot;attribution&quot;: &quot;Map Data GEE&quot;, &quot;detectRetina&quot;: false, &quot;maxNativeZoom&quot;: 18, &quot;maxZoom&quot;: 18, &quot;minZoom&quot;: 0, &quot;noWrap&quot;: false, &quot;opacity&quot;: 1, &quot;subdomains&quot;: &quot;abc&quot;, &quot;tms&quot;: false}\n",
       "            );\n",
       "        \n",
       "    \n",
       "            tile_layer_0b2eb3901f8e5a9de9e10224a9cab613.addTo(map_50197cf04e09a2318bdd2177bc27befb);\n",
       "        \n",
       "&lt;/script&gt;\n",
       "&lt;/html&gt;\" style=\"position:absolute;width:100%;height:100%;left:0;top:0;border:none !important;\" allowfullscreen webkitallowfullscreen mozallowfullscreen></iframe></div></div>"
      ],
      "text/plain": [
       "<folium.folium.Map at 0x2984dd53350>"
      ]
     },
     "metadata": {},
     "output_type": "display_data"
    }
   ],
   "source": [
    "# function to add the layer to folium map\n",
    "def add_ee_layer(self, ee_object, color, name):\n",
    "    map_id_dict = ee.Image(ee_object).getMapId(color)\n",
    "    folium.raster_layers.TileLayer(\n",
    "        tiles = map_id_dict['tile_fetcher'].url_format,\n",
    "        attr = \"Map Data GEE\",\n",
    "        name = name,\n",
    "        overlay = True,\n",
    "        control = True\n",
    "    ).add_to(self)\n",
    "\n",
    "# add the earth engine function to the folium map\n",
    "folium.Map.add_ee_layer = add_ee_layer\n",
    "\n",
    "# create folium map\n",
    "map = folium.Map(location=[49.61, 17.26], zoom_start = 12)\n",
    "\n",
    "# setting the vis variables\n",
    "evi_color = {\n",
    "    'min': 0.0,\n",
    "    'max': 1.0,\n",
    "    'palette': ['blue', 'white', 'green']\n",
    "}\n",
    "\n",
    "# add the evi layer to the map\n",
    "map.add_ee_layer(evi_mean, evi_color, 'NDVI')\n",
    "\n",
    "# display the map\n",
    "display(map)"
   ]
  },
  {
   "cell_type": "code",
   "execution_count": null,
   "id": "9b880a1f-d114-4d2f-8055-27e1e0cefe1e",
   "metadata": {},
   "outputs": [],
   "source": []
  }
 ],
 "metadata": {
  "kernelspec": {
   "display_name": "Python 3 (ipykernel)",
   "language": "python",
   "name": "python3"
  },
  "language_info": {
   "codemirror_mode": {
    "name": "ipython",
    "version": 3
   },
   "file_extension": ".py",
   "mimetype": "text/x-python",
   "name": "python",
   "nbconvert_exporter": "python",
   "pygments_lexer": "ipython3",
   "version": "3.12.3"
  }
 },
 "nbformat": 4,
 "nbformat_minor": 5
}
