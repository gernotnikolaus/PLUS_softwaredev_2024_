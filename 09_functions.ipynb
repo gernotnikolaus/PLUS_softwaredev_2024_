{
 "cells": [
  {
   "cell_type": "markdown",
   "id": "aebb342e",
   "metadata": {
    "tags": []
   },
   "source": [
    "# Functions\n",
    "\n",
    "We have tried Python standard functions, standard libraries and a few geo-related python libraries in this course so far, mostly in Jupyter notebooks. Now, we are going back to some programming fundamentals in Python.\n",
    "\n",
    "Creating functions are a way to divide your code into reusable pieces that can be run/used multiple times, sort of like running a Jupyter notebook cell.\n",
    "\n",
    "You can think of a function like a block of code. A function can take parameters (or not!) to run, and can also return something to the user (e.g. a variable that can be of any type (e.g. list, string, integer), multiple variables, other python objects like a class or figure object from the matplotlib introduction that was shared with you).\n",
    "\n",
    "## Defining a function\n",
    "\n",
    "To define a function in python, the **def** keyword is used, which is short for definition, followed by parentheses () and a colon : The code contained in the function begins on the next line after the colon and each line to be included in the function must be indented at least once so that the python interpreter knows that it belongs together."
   ]
  },
  {
   "cell_type": "code",
   "execution_count": 1,
   "id": "5cbec0c9",
   "metadata": {},
   "outputs": [
    {
     "ename": "IndentationError",
     "evalue": "expected an indented block (2193609992.py, line 5)",
     "output_type": "error",
     "traceback": [
      "\u001b[1;36m  File \u001b[1;32m\"C:\\Users\\s1102050\\AppData\\Local\\Temp\\ipykernel_14040\\2193609992.py\"\u001b[1;36m, line \u001b[1;32m5\u001b[0m\n\u001b[1;33m    def this_is_a_function_0():\u001b[0m\n\u001b[1;37m                               ^\u001b[0m\n\u001b[1;31mIndentationError\u001b[0m\u001b[1;31m:\u001b[0m expected an indented block\n"
     ]
    }
   ],
   "source": [
    "# This one line of code begins to define a function.\n",
    "# If you run it like this, it will throw an end-of-file (EOF) error,\n",
    "# this is because it expects something, anything other than an\n",
    "# absolutely empty function.\n",
    "def this_is_a_function_0():"
   ]
  },
  {
   "cell_type": "code",
   "execution_count": 2,
   "id": "cb0b673f",
   "metadata": {},
   "outputs": [],
   "source": [
    "# You can fix this either by explicitly writing the keyword \"return\"...\n",
    "def this_is_a_function_1():\n",
    "    return"
   ]
  },
  {
   "cell_type": "code",
   "execution_count": 3,
   "id": "f80c7d55",
   "metadata": {},
   "outputs": [],
   "source": [
    "# Or by doing something, anything, inside the function...\n",
    "def this_is_a_function_2():\n",
    "    variable = \"string\""
   ]
  },
  {
   "cell_type": "code",
   "execution_count": 4,
   "id": "d68692c1",
   "metadata": {},
   "outputs": [],
   "source": [
    "# Or both...\n",
    "def this_is_a_function_3():\n",
    "    variable = \"string\"\n",
    "    return variable"
   ]
  },
  {
   "cell_type": "markdown",
   "id": "eb2a9a93",
   "metadata": {},
   "source": [
    "Technically you have defined 3 functions now! If you remember from earlier in the course, you can check this using the built-in globals() and locals() functions."
   ]
  },
  {
   "cell_type": "code",
   "execution_count": 5,
   "id": "014daf91",
   "metadata": {},
   "outputs": [
    {
     "data": {
      "text/plain": [
       "{'__name__': '__main__',\n",
       " '__doc__': 'Automatically created module for IPython interactive environment',\n",
       " '__package__': None,\n",
       " '__loader__': None,\n",
       " '__spec__': None,\n",
       " '__builtin__': <module 'builtins' (built-in)>,\n",
       " '__builtins__': <module 'builtins' (built-in)>,\n",
       " '_ih': ['',\n",
       "  '# This one line of code begins to define a function.\\n# If you run it like this, it will throw an end-of-file (EOF) error,\\n# this is because it expects something, anything other than an\\n# absolutely empty function.\\ndef this_is_a_function_0():',\n",
       "  '# You can fix this either by explicitly writing the keyword \"return\"...\\ndef this_is_a_function_1():\\n    return',\n",
       "  '# Or by doing something, anything, inside the function...\\ndef this_is_a_function_2():\\n    variable = \"string\"',\n",
       "  '# Or both...\\ndef this_is_a_function_3():\\n    variable = \"string\"\\n    return variable',\n",
       "  'globals()'],\n",
       " '_oh': {},\n",
       " '_dh': ['C:\\\\Users\\\\s1102050\\\\Desktop'],\n",
       " 'In': ['',\n",
       "  '# This one line of code begins to define a function.\\n# If you run it like this, it will throw an end-of-file (EOF) error,\\n# this is because it expects something, anything other than an\\n# absolutely empty function.\\ndef this_is_a_function_0():',\n",
       "  '# You can fix this either by explicitly writing the keyword \"return\"...\\ndef this_is_a_function_1():\\n    return',\n",
       "  '# Or by doing something, anything, inside the function...\\ndef this_is_a_function_2():\\n    variable = \"string\"',\n",
       "  '# Or both...\\ndef this_is_a_function_3():\\n    variable = \"string\"\\n    return variable',\n",
       "  'globals()'],\n",
       " 'Out': {},\n",
       " 'get_ipython': <bound method InteractiveShell.get_ipython of <ipykernel.zmqshell.ZMQInteractiveShell object at 0x00000201B9BC7880>>,\n",
       " 'exit': <IPython.core.autocall.ZMQExitAutocall at 0x201b9b40610>,\n",
       " 'quit': <IPython.core.autocall.ZMQExitAutocall at 0x201b9b40610>,\n",
       " '_': '',\n",
       " '__': '',\n",
       " '___': '',\n",
       " '_i': '# Or both...\\ndef this_is_a_function_3():\\n    variable = \"string\"\\n    return variable',\n",
       " '_ii': '# Or by doing something, anything, inside the function...\\ndef this_is_a_function_2():\\n    variable = \"string\"',\n",
       " '_iii': '# You can fix this either by explicitly writing the keyword \"return\"...\\ndef this_is_a_function_1():\\n    return',\n",
       " '_i1': '# This one line of code begins to define a function.\\n# If you run it like this, it will throw an end-of-file (EOF) error,\\n# this is because it expects something, anything other than an\\n# absolutely empty function.\\ndef this_is_a_function_0():',\n",
       " '_i2': '# You can fix this either by explicitly writing the keyword \"return\"...\\ndef this_is_a_function_1():\\n    return',\n",
       " 'this_is_a_function_1': <function __main__.this_is_a_function_1()>,\n",
       " '_i3': '# Or by doing something, anything, inside the function...\\ndef this_is_a_function_2():\\n    variable = \"string\"',\n",
       " 'this_is_a_function_2': <function __main__.this_is_a_function_2()>,\n",
       " '_i4': '# Or both...\\ndef this_is_a_function_3():\\n    variable = \"string\"\\n    return variable',\n",
       " 'this_is_a_function_3': <function __main__.this_is_a_function_3()>,\n",
       " '_i5': 'globals()'}"
      ]
     },
     "execution_count": 5,
     "metadata": {},
     "output_type": "execute_result"
    }
   ],
   "source": [
    "globals()"
   ]
  },
  {
   "cell_type": "code",
   "execution_count": 6,
   "id": "e4d13723",
   "metadata": {},
   "outputs": [
    {
     "data": {
      "text/plain": [
       "{'__name__': '__main__',\n",
       " '__doc__': 'Automatically created module for IPython interactive environment',\n",
       " '__package__': None,\n",
       " '__loader__': None,\n",
       " '__spec__': None,\n",
       " '__builtin__': <module 'builtins' (built-in)>,\n",
       " '__builtins__': <module 'builtins' (built-in)>,\n",
       " '_ih': ['',\n",
       "  '# This one line of code begins to define a function.\\n# If you run it like this, it will throw an end-of-file (EOF) error,\\n# this is because it expects something, anything other than an\\n# absolutely empty function.\\ndef this_is_a_function_0():',\n",
       "  '# You can fix this either by explicitly writing the keyword \"return\"...\\ndef this_is_a_function_1():\\n    return',\n",
       "  '# Or by doing something, anything, inside the function...\\ndef this_is_a_function_2():\\n    variable = \"string\"',\n",
       "  '# Or both...\\ndef this_is_a_function_3():\\n    variable = \"string\"\\n    return variable',\n",
       "  'globals()',\n",
       "  'locals()'],\n",
       " '_oh': {5: {...}},\n",
       " '_dh': ['C:\\\\Users\\\\s1102050\\\\Desktop'],\n",
       " 'In': ['',\n",
       "  '# This one line of code begins to define a function.\\n# If you run it like this, it will throw an end-of-file (EOF) error,\\n# this is because it expects something, anything other than an\\n# absolutely empty function.\\ndef this_is_a_function_0():',\n",
       "  '# You can fix this either by explicitly writing the keyword \"return\"...\\ndef this_is_a_function_1():\\n    return',\n",
       "  '# Or by doing something, anything, inside the function...\\ndef this_is_a_function_2():\\n    variable = \"string\"',\n",
       "  '# Or both...\\ndef this_is_a_function_3():\\n    variable = \"string\"\\n    return variable',\n",
       "  'globals()',\n",
       "  'locals()'],\n",
       " 'Out': {5: {...}},\n",
       " 'get_ipython': <bound method InteractiveShell.get_ipython of <ipykernel.zmqshell.ZMQInteractiveShell object at 0x00000201B9BC7880>>,\n",
       " 'exit': <IPython.core.autocall.ZMQExitAutocall at 0x201b9b40610>,\n",
       " 'quit': <IPython.core.autocall.ZMQExitAutocall at 0x201b9b40610>,\n",
       " '_': {...},\n",
       " '__': '',\n",
       " '___': '',\n",
       " '_i': 'globals()',\n",
       " '_ii': '# Or both...\\ndef this_is_a_function_3():\\n    variable = \"string\"\\n    return variable',\n",
       " '_iii': '# Or by doing something, anything, inside the function...\\ndef this_is_a_function_2():\\n    variable = \"string\"',\n",
       " '_i1': '# This one line of code begins to define a function.\\n# If you run it like this, it will throw an end-of-file (EOF) error,\\n# this is because it expects something, anything other than an\\n# absolutely empty function.\\ndef this_is_a_function_0():',\n",
       " '_i2': '# You can fix this either by explicitly writing the keyword \"return\"...\\ndef this_is_a_function_1():\\n    return',\n",
       " 'this_is_a_function_1': <function __main__.this_is_a_function_1()>,\n",
       " '_i3': '# Or by doing something, anything, inside the function...\\ndef this_is_a_function_2():\\n    variable = \"string\"',\n",
       " 'this_is_a_function_2': <function __main__.this_is_a_function_2()>,\n",
       " '_i4': '# Or both...\\ndef this_is_a_function_3():\\n    variable = \"string\"\\n    return variable',\n",
       " 'this_is_a_function_3': <function __main__.this_is_a_function_3()>,\n",
       " '_i5': 'globals()',\n",
       " '_5': {...},\n",
       " '_i6': 'locals()'}"
      ]
     },
     "execution_count": 6,
     "metadata": {},
     "output_type": "execute_result"
    }
   ],
   "source": [
    "locals()"
   ]
  },
  {
   "cell_type": "code",
   "execution_count": 7,
   "id": "298633b4",
   "metadata": {},
   "outputs": [
    {
     "data": {
      "text/plain": [
       "<function __main__.this_is_a_function_1()>"
      ]
     },
     "execution_count": 7,
     "metadata": {},
     "output_type": "execute_result"
    }
   ],
   "source": [
    "this_is_a_function_1"
   ]
  },
  {
   "cell_type": "markdown",
   "id": "4f5cb42e",
   "metadata": {},
   "source": [
    "If you just call the name of the function (without the parentheses), iPython will explain to you what kind of object it is. In this case, __main__ is a namespace, which means this file or script."
   ]
  },
  {
   "cell_type": "code",
   "execution_count": 8,
   "id": "fac31bd4",
   "metadata": {},
   "outputs": [
    {
     "data": {
      "text/plain": [
       "<function __main__.this_is_a_function_2()>"
      ]
     },
     "execution_count": 8,
     "metadata": {},
     "output_type": "execute_result"
    }
   ],
   "source": [
    "this_is_a_function_2"
   ]
  },
  {
   "cell_type": "code",
   "execution_count": 9,
   "id": "57283647",
   "metadata": {},
   "outputs": [
    {
     "data": {
      "text/plain": [
       "<function __main__.this_is_a_function_3()>"
      ]
     },
     "execution_count": 9,
     "metadata": {},
     "output_type": "execute_result"
    }
   ],
   "source": [
    "this_is_a_function_3"
   ]
  },
  {
   "cell_type": "markdown",
   "id": "51e3ec74",
   "metadata": {},
   "source": [
    "You can also check this using the built-in type function."
   ]
  },
  {
   "cell_type": "code",
   "execution_count": 10,
   "id": "53039cf6",
   "metadata": {},
   "outputs": [
    {
     "data": {
      "text/plain": [
       "function"
      ]
     },
     "execution_count": 10,
     "metadata": {},
     "output_type": "execute_result"
    }
   ],
   "source": [
    "type(this_is_a_function_1)"
   ]
  },
  {
   "cell_type": "code",
   "execution_count": 11,
   "id": "cd37925d",
   "metadata": {},
   "outputs": [
    {
     "data": {
      "text/plain": [
       "function"
      ]
     },
     "execution_count": 11,
     "metadata": {},
     "output_type": "execute_result"
    }
   ],
   "source": [
    "type(this_is_a_function_2)"
   ]
  },
  {
   "cell_type": "code",
   "execution_count": 12,
   "id": "8491e41f",
   "metadata": {},
   "outputs": [
    {
     "data": {
      "text/plain": [
       "function"
      ]
     },
     "execution_count": 12,
     "metadata": {},
     "output_type": "execute_result"
    }
   ],
   "source": [
    "type(this_is_a_function_3)"
   ]
  },
  {
   "cell_type": "markdown",
   "id": "3d7d6d62",
   "metadata": {},
   "source": [
    "See how the output of the type() functions differs when you actually call the function. Calling the function means that you make it run, or execute the function. To do this, you need to include the parentheses. In the case of a function that takes arguments/parameters, these parenthesis will not be empty, but first see what happens based on the very basic functions we defined in the cells before..."
   ]
  },
  {
   "cell_type": "code",
   "execution_count": 13,
   "id": "90233a38",
   "metadata": {},
   "outputs": [
    {
     "data": {
      "text/plain": [
       "NoneType"
      ]
     },
     "execution_count": 13,
     "metadata": {},
     "output_type": "execute_result"
    }
   ],
   "source": [
    "# This is the function that just included \"return\"\n",
    "type(this_is_a_function_1())"
   ]
  },
  {
   "cell_type": "code",
   "execution_count": 14,
   "id": "b8d73d43",
   "metadata": {},
   "outputs": [
    {
     "data": {
      "text/plain": [
       "NoneType"
      ]
     },
     "execution_count": 14,
     "metadata": {},
     "output_type": "execute_result"
    }
   ],
   "source": [
    "# This is the function that defined a variable but was defined not\n",
    "# to return anything.\n",
    "type(this_is_a_function_2())"
   ]
  },
  {
   "cell_type": "code",
   "execution_count": 15,
   "id": "f695e30a",
   "metadata": {},
   "outputs": [
    {
     "data": {
      "text/plain": [
       "str"
      ]
     },
     "execution_count": 15,
     "metadata": {},
     "output_type": "execute_result"
    }
   ],
   "source": [
    "# This is the function that defined a string variable\n",
    "# and returned it!\n",
    "type(this_is_a_function_3())"
   ]
  },
  {
   "cell_type": "markdown",
   "id": "6f045bb1",
   "metadata": {},
   "source": [
    "What you see here is that the built-in type() function is now receiving the output of whatever defined function as input instead of the function itself because you called the function and it did a thing!\n",
    "\n",
    "Just to be a bit more clear, here are a few more functions that are called and then given to the type() function as input."
   ]
  },
  {
   "cell_type": "code",
   "execution_count": 16,
   "id": "744a460c",
   "metadata": {},
   "outputs": [],
   "source": [
    "def this_is_a_function_4():\n",
    "    variable = 586.334\n",
    "    return variable"
   ]
  },
  {
   "cell_type": "code",
   "execution_count": 17,
   "id": "f59f299c",
   "metadata": {},
   "outputs": [
    {
     "data": {
      "text/plain": [
       "float"
      ]
     },
     "execution_count": 17,
     "metadata": {},
     "output_type": "execute_result"
    }
   ],
   "source": [
    "type(this_is_a_function_4())"
   ]
  },
  {
   "cell_type": "code",
   "execution_count": 18,
   "id": "0c39660d",
   "metadata": {},
   "outputs": [],
   "source": [
    "def this_is_a_function_5():\n",
    "    variable_1 = 586.334\n",
    "    variable_2 = \"String!\"\n",
    "    return variable_1, variable_2"
   ]
  },
  {
   "cell_type": "code",
   "execution_count": 19,
   "id": "b982a5a7",
   "metadata": {},
   "outputs": [
    {
     "data": {
      "text/plain": [
       "tuple"
      ]
     },
     "execution_count": 19,
     "metadata": {},
     "output_type": "execute_result"
    }
   ],
   "source": [
    "type(this_is_a_function_5())"
   ]
  },
  {
   "cell_type": "markdown",
   "id": "599b96cd",
   "metadata": {},
   "source": [
    "As you see above, the default type of returned variables/objects/values is an immutable tuple, however you can define it to be something different..."
   ]
  },
  {
   "cell_type": "code",
   "execution_count": 20,
   "id": "b9513d2a",
   "metadata": {},
   "outputs": [],
   "source": [
    "def this_is_a_function_6():\n",
    "    variable_1 = 586.334\n",
    "    variable_2 = \"String!\"\n",
    "    return [variable_1, variable_2]"
   ]
  },
  {
   "cell_type": "code",
   "execution_count": 21,
   "id": "0c1fb2a2",
   "metadata": {},
   "outputs": [
    {
     "data": {
      "text/plain": [
       "list"
      ]
     },
     "execution_count": 21,
     "metadata": {},
     "output_type": "execute_result"
    }
   ],
   "source": [
    "type(this_is_a_function_6())"
   ]
  },
  {
   "cell_type": "markdown",
   "id": "a9e43d9e",
   "metadata": {},
   "source": [
    "You can also assign the output of a called function to a variable in order to do something else with it."
   ]
  },
  {
   "cell_type": "code",
   "execution_count": 22,
   "id": "696c26c9",
   "metadata": {},
   "outputs": [
    {
     "name": "stdout",
     "output_type": "stream",
     "text": [
      "[586.334, 'String!']\n"
     ]
    }
   ],
   "source": [
    "function_6_output = this_is_a_function_6()\n",
    "print(function_6_output)"
   ]
  },
  {
   "cell_type": "code",
   "execution_count": 23,
   "id": "aabdd511",
   "metadata": {},
   "outputs": [
    {
     "name": "stdout",
     "output_type": "stream",
     "text": [
      "(586.334, 'String!')\n"
     ]
    },
    {
     "data": {
      "text/plain": [
       "tuple"
      ]
     },
     "execution_count": 23,
     "metadata": {},
     "output_type": "execute_result"
    }
   ],
   "source": [
    "function_5_output = this_is_a_function_5()\n",
    "print(function_5_output)\n",
    "type(function_5_output)"
   ]
  },
  {
   "cell_type": "code",
   "execution_count": 24,
   "id": "567d78a6",
   "metadata": {},
   "outputs": [
    {
     "name": "stdout",
     "output_type": "stream",
     "text": [
      "586.334\n"
     ]
    },
    {
     "data": {
      "text/plain": [
       "float"
      ]
     },
     "execution_count": 24,
     "metadata": {},
     "output_type": "execute_result"
    }
   ],
   "source": [
    "function_4_output = this_is_a_function_4()\n",
    "print(function_4_output)\n",
    "type(function_4_output)"
   ]
  },
  {
   "cell_type": "code",
   "execution_count": 25,
   "id": "cb91e377",
   "metadata": {},
   "outputs": [
    {
     "data": {
      "text/plain": [
       "195.44466666666665"
      ]
     },
     "execution_count": 25,
     "metadata": {},
     "output_type": "execute_result"
    }
   ],
   "source": [
    "function_4_output / 3"
   ]
  },
  {
   "cell_type": "markdown",
   "id": "58e2f0ae",
   "metadata": {},
   "source": [
    "Not to make things more confusing, but you have to remember that a function is just a way to refer to a block of code. Just like a variable, you can re-define it... re-definining functions isn't useful for anything other than understanding that most of programming is linking files, but also linking blocks of code together in different ways, and that a function is just another \"object\" that you can call (i.e. make run!)."
   ]
  },
  {
   "cell_type": "code",
   "execution_count": 26,
   "id": "42418f16",
   "metadata": {},
   "outputs": [],
   "source": [
    "def this_is_a_function_1():\n",
    "    return \"oh ha! I return something now!\""
   ]
  },
  {
   "cell_type": "code",
   "execution_count": 27,
   "id": "f30d3a88",
   "metadata": {},
   "outputs": [
    {
     "data": {
      "text/plain": [
       "'oh ha! I return something now!'"
      ]
     },
     "execution_count": 27,
     "metadata": {},
     "output_type": "execute_result"
    }
   ],
   "source": [
    "this_is_a_function_1()"
   ]
  },
  {
   "cell_type": "code",
   "execution_count": 28,
   "id": "735beb27",
   "metadata": {},
   "outputs": [],
   "source": [
    "this_is_a_function_1 = \"uh oh, now what?!\""
   ]
  },
  {
   "cell_type": "code",
   "execution_count": 29,
   "id": "35f1acfa",
   "metadata": {},
   "outputs": [
    {
     "ename": "TypeError",
     "evalue": "'str' object is not callable",
     "output_type": "error",
     "traceback": [
      "\u001b[1;31m---------------------------------------------------------------------------\u001b[0m",
      "\u001b[1;31mTypeError\u001b[0m                                 Traceback (most recent call last)",
      "\u001b[1;32m~\\AppData\\Local\\Temp\\ipykernel_14040\\2855242674.py\u001b[0m in \u001b[0;36m<cell line: 1>\u001b[1;34m()\u001b[0m\n\u001b[1;32m----> 1\u001b[1;33m \u001b[0mthis_is_a_function_1\u001b[0m\u001b[1;33m(\u001b[0m\u001b[1;33m)\u001b[0m\u001b[1;33m\u001b[0m\u001b[1;33m\u001b[0m\u001b[0m\n\u001b[0m",
      "\u001b[1;31mTypeError\u001b[0m: 'str' object is not callable"
     ]
    }
   ],
   "source": [
    "this_is_a_function_1()"
   ]
  },
  {
   "cell_type": "markdown",
   "id": "802e3533",
   "metadata": {},
   "source": [
    "## Scope"
   ]
  },
  {
   "cell_type": "markdown",
   "id": "e8b73a55",
   "metadata": {},
   "source": [
    "So, what happened above? We redefined this_is_a_function_1(), and then assigned a string value to a variable of the same name . Essentially we re-defined the function with a string variable, which brings us to an important concept called \"scope\". \"Scope\" basically refers to the boundaries in memory (that you cannot see...) for which different values are applicable. This is relevant for functions, but especially when you start writing different scripts or packages that have access to different files, functions, classes, etc. While you can be careful not to name anything the same to avoid such issues, that gets to be very difficult when relying on many external libraries etc.\n",
    "\n",
    "So, again, like we did before, if you just call the name of the function (without the parentheses), iPython will explain to you what kind of object it is.\n"
   ]
  },
  {
   "cell_type": "code",
   "execution_count": 30,
   "id": "8078c42d",
   "metadata": {},
   "outputs": [
    {
     "data": {
      "text/plain": [
       "<function __main__.this_is_a_function_2()>"
      ]
     },
     "execution_count": 30,
     "metadata": {},
     "output_type": "execute_result"
    }
   ],
   "source": [
    "this_is_a_function_2"
   ]
  },
  {
   "cell_type": "markdown",
   "id": "ac505890",
   "metadata": {},
   "source": [
    "**\\_\\_main\\_\\_** refers to a namespace, which, in this case, means this file or script... So, this function currently has a scope of this file or script (unless I import this file/script into another file like we have done with other libraries, but that is another topic...). If you want to learn more about this, read the documentation here: https://docs.python.org/3/library/__main__.html\n",
    "\n",
    "These are a bit more advanced, meta-understanding sort of topics in python, so don't worry if it is confusing and for now you can just focus on individual functions.\n",
    "\n",
    "Back to functions...\n",
    "\n",
    "So, we can define functions now that return something. Great. But how do we give them input? By defining arguments!\n",
    "\n",
    "## Defining functions with input arguments\n",
    "\n",
    "Ultimately, this is done in the function definition by simply giving possible input a name that is then used in the function."
   ]
  },
  {
   "cell_type": "code",
   "execution_count": 31,
   "id": "9fd3cbbc",
   "metadata": {},
   "outputs": [],
   "source": [
    "def this_is_a_function_10(var1, var2):\n",
    "    \n",
    "    if type(var1) == int and type(var2) == int:\n",
    "        return var1 * var2\n",
    "    elif type(var1) == float and type(var2) == float:\n",
    "        return var1 * var2 / 2\n",
    "    elif type(var1) == str and type(var2) == str:\n",
    "        return \"String one: \" + var1 + \"    String two: \" + var2\n",
    "    else:\n",
    "        print(\"Unknown combination: {}, {}\".format(var1, var2))"
   ]
  },
  {
   "cell_type": "code",
   "execution_count": 32,
   "id": "8244d6a2",
   "metadata": {},
   "outputs": [
    {
     "data": {
      "text/plain": [
       "20"
      ]
     },
     "execution_count": 32,
     "metadata": {},
     "output_type": "execute_result"
    }
   ],
   "source": [
    "this_is_a_function_10(4, 5)"
   ]
  },
  {
   "cell_type": "code",
   "execution_count": 33,
   "id": "9faf9b29",
   "metadata": {},
   "outputs": [
    {
     "data": {
      "text/plain": [
       "10.0"
      ]
     },
     "execution_count": 33,
     "metadata": {},
     "output_type": "execute_result"
    }
   ],
   "source": [
    "this_is_a_function_10(4.0, 5.0)"
   ]
  },
  {
   "cell_type": "code",
   "execution_count": 34,
   "id": "d4a389c9",
   "metadata": {},
   "outputs": [
    {
     "data": {
      "text/plain": [
       "'String one: 4    String two: 5'"
      ]
     },
     "execution_count": 34,
     "metadata": {},
     "output_type": "execute_result"
    }
   ],
   "source": [
    "this_is_a_function_10(\"4\", \"5\")"
   ]
  },
  {
   "cell_type": "code",
   "execution_count": 35,
   "id": "db45b4bf",
   "metadata": {},
   "outputs": [
    {
     "name": "stdout",
     "output_type": "stream",
     "text": [
      "Unknown combination: 4, 5.0\n"
     ]
    }
   ],
   "source": [
    "this_is_a_function_10(4, 5.0)"
   ]
  },
  {
   "cell_type": "markdown",
   "id": "1a7c61db",
   "metadata": {},
   "source": [
    "Now, remember how we mentioned scope before? Try and see what happens if you print one of the variables defined as part of the function..."
   ]
  },
  {
   "cell_type": "code",
   "execution_count": 36,
   "id": "16dd2f85",
   "metadata": {},
   "outputs": [
    {
     "ename": "NameError",
     "evalue": "name 'var1' is not defined",
     "output_type": "error",
     "traceback": [
      "\u001b[1;31m---------------------------------------------------------------------------\u001b[0m",
      "\u001b[1;31mNameError\u001b[0m                                 Traceback (most recent call last)",
      "\u001b[1;32m~\\AppData\\Local\\Temp\\ipykernel_14040\\2529670587.py\u001b[0m in \u001b[0;36m<cell line: 1>\u001b[1;34m()\u001b[0m\n\u001b[1;32m----> 1\u001b[1;33m \u001b[0mprint\u001b[0m\u001b[1;33m(\u001b[0m\u001b[0mvar1\u001b[0m\u001b[1;33m)\u001b[0m\u001b[1;33m\u001b[0m\u001b[1;33m\u001b[0m\u001b[0m\n\u001b[0m",
      "\u001b[1;31mNameError\u001b[0m: name 'var1' is not defined"
     ]
    }
   ],
   "source": [
    "print(var1)"
   ]
  },
  {
   "cell_type": "markdown",
   "id": "0ffade0d",
   "metadata": {},
   "source": [
    "In this case, the reference to \"var1\" and \"var2\" are only valid inside the function definition, just like the functions we are defining are only valid inside this file (...unless we import them into another file). Next week we will talk more about classes and very briefly about python packages, but the concept is the same, in that classes are essentially just another way to define a new object that can have attributes and functions that have a limited scope that only apply to the class. These are all different ways to divide code depending on your needs and what you need it to do (or not do).\n",
    "\n",
    "... Anyways, there is also another way to define arguments for a function, and that is to explicitly assign keywords with a default value. This means that if no value is defined for these arguments, the default value that is defined will be used."
   ]
  },
  {
   "cell_type": "code",
   "execution_count": 37,
   "id": "5063e512",
   "metadata": {},
   "outputs": [],
   "source": [
    "def this_is_a_function_11(var1 = 1, var2 = 3):\n",
    "    \n",
    "    if type(var1) == int and type(var2) == int:\n",
    "        return var1 * var2\n",
    "    elif type(var1) == float and type(var2) == float:\n",
    "        return var1 * var2 / 2\n",
    "    elif type(var1) == str and type(var2) == str:\n",
    "        return \"String one: \" + var1 + \"    String two: \" + var2\n",
    "    else:\n",
    "        print(\"Unknown combination: {}, {}\".format(var1, var2))"
   ]
  },
  {
   "cell_type": "code",
   "execution_count": 38,
   "id": "2d93adb4",
   "metadata": {},
   "outputs": [
    {
     "data": {
      "text/plain": [
       "3"
      ]
     },
     "execution_count": 38,
     "metadata": {},
     "output_type": "execute_result"
    }
   ],
   "source": [
    "this_is_a_function_11()"
   ]
  },
  {
   "cell_type": "code",
   "execution_count": 39,
   "id": "a72d7944",
   "metadata": {},
   "outputs": [
    {
     "data": {
      "text/plain": [
       "56"
      ]
     },
     "execution_count": 39,
     "metadata": {},
     "output_type": "execute_result"
    }
   ],
   "source": [
    "this_is_a_function_11(7, 8)"
   ]
  },
  {
   "cell_type": "code",
   "execution_count": 40,
   "id": "d4b160b1",
   "metadata": {},
   "outputs": [
    {
     "data": {
      "text/plain": [
       "'String one: first    String two: second'"
      ]
     },
     "execution_count": 40,
     "metadata": {},
     "output_type": "execute_result"
    }
   ],
   "source": [
    "this_is_a_function_11(\"first\", \"second\")"
   ]
  },
  {
   "cell_type": "code",
   "execution_count": 41,
   "id": "153c558a",
   "metadata": {},
   "outputs": [
    {
     "data": {
      "text/plain": [
       "'String one: second    String two: first'"
      ]
     },
     "execution_count": 41,
     "metadata": {},
     "output_type": "execute_result"
    }
   ],
   "source": [
    "this_is_a_function_11(var2 = \"first\", var1 = \"second\")"
   ]
  },
  {
   "cell_type": "markdown",
   "id": "0ae66c41",
   "metadata": {},
   "source": [
    "Hmm...that was interesting. If you missed it, take a closer look above at what happened.\n",
    "\n",
    "The keyword arguments for the function called \"var1\" and \"var2\" can also be referred to by name! However, try to access them again, and you'll get an error."
   ]
  },
  {
   "cell_type": "code",
   "execution_count": 42,
   "id": "ed46bbbb",
   "metadata": {},
   "outputs": [
    {
     "ename": "NameError",
     "evalue": "name 'var1' is not defined",
     "output_type": "error",
     "traceback": [
      "\u001b[1;31m---------------------------------------------------------------------------\u001b[0m",
      "\u001b[1;31mNameError\u001b[0m                                 Traceback (most recent call last)",
      "\u001b[1;32m~\\AppData\\Local\\Temp\\ipykernel_14040\\2529670587.py\u001b[0m in \u001b[0;36m<cell line: 1>\u001b[1;34m()\u001b[0m\n\u001b[1;32m----> 1\u001b[1;33m \u001b[0mprint\u001b[0m\u001b[1;33m(\u001b[0m\u001b[0mvar1\u001b[0m\u001b[1;33m)\u001b[0m\u001b[1;33m\u001b[0m\u001b[1;33m\u001b[0m\u001b[0m\n\u001b[0m",
      "\u001b[1;31mNameError\u001b[0m: name 'var1' is not defined"
     ]
    }
   ],
   "source": [
    "print(var1)"
   ]
  },
  {
   "cell_type": "markdown",
   "id": "c23dd32d",
   "metadata": {},
   "source": [
    "This is because  \"var1\" and \"var2\" are still only valid inside the function, however, since you defined them by name, you can refer to them by name when calling the function. This is very useful especially if you have multiple arguments so that you make sure you are passing the proper values instead of having to rely only on the order that they are given to the function. These are referred to as \"keyword arguments\" and you'll see this shortened to \"kwargs\".\n",
    "\n",
    "\n",
    "## Definining a function to take an unknown number of arguments\n",
    "\n",
    "There are two other ways to pass values to a function that might be useful for you someday, but are a bit more advanced. There are two ways to pass values if you don't necessarily know the number of values you want to pass! This is done using one or two stars * and a name to refer to the arguments. Out of convention, these are referred to as args (short for arguments) and kwargs (short for keyword arguments), but you could call them whatever you like....\n",
    "\n",
    "Let's take a look at both of these things by checking the type of what happens for each kind of unknown number of arguments..."
   ]
  },
  {
   "cell_type": "code",
   "execution_count": 43,
   "id": "80131765",
   "metadata": {},
   "outputs": [],
   "source": [
    "def this_is_a_function_12(*args):\n",
    "    print(type(args))"
   ]
  },
  {
   "cell_type": "code",
   "execution_count": 44,
   "id": "020da9b9",
   "metadata": {},
   "outputs": [
    {
     "name": "stdout",
     "output_type": "stream",
     "text": [
      "<class 'tuple'>\n"
     ]
    }
   ],
   "source": [
    "this_is_a_function_12()"
   ]
  },
  {
   "cell_type": "code",
   "execution_count": 45,
   "id": "209a0099",
   "metadata": {},
   "outputs": [],
   "source": [
    "def this_is_a_function_13(**kwargs):\n",
    "    print(type(kwargs))"
   ]
  },
  {
   "cell_type": "code",
   "execution_count": 46,
   "id": "86ca204d",
   "metadata": {},
   "outputs": [
    {
     "name": "stdout",
     "output_type": "stream",
     "text": [
      "<class 'dict'>\n"
     ]
    }
   ],
   "source": [
    "this_is_a_function_13()"
   ]
  },
  {
   "cell_type": "markdown",
   "id": "17b23dc7",
   "metadata": {},
   "source": [
    "So, the first one with one \\* essentially receives a tuple, and the second one with \\*\\* receives a dictionary. This makes sense, since the first one receives an iterably tuple and the second one essentially unknown keywords with values. Ok, that's interesting but a bit abstract. How do you use such a thing?"
   ]
  },
  {
   "cell_type": "code",
   "execution_count": null,
   "id": "d3ea798b",
   "metadata": {},
   "outputs": [],
   "source": [
    "def this_is_a_function_14(*args):\n",
    "    for arg in args:\n",
    "        print(arg)"
   ]
  },
  {
   "cell_type": "code",
   "execution_count": null,
   "id": "eb6026d5",
   "metadata": {},
   "outputs": [],
   "source": [
    "this_is_a_function_14(\"test\", 4, 6.5, \"ah!\")"
   ]
  },
  {
   "cell_type": "code",
   "execution_count": null,
   "id": "22182f0b",
   "metadata": {},
   "outputs": [],
   "source": [
    "def this_is_a_function_15(first_value, second_value, *args):\n",
    "    for arg in args:\n",
    "        print(arg)"
   ]
  },
  {
   "cell_type": "code",
   "execution_count": null,
   "id": "107a9720",
   "metadata": {},
   "outputs": [],
   "source": [
    "this_is_a_function_15(\"test\", 4, 6.5, \"ah!\")"
   ]
  },
  {
   "cell_type": "code",
   "execution_count": null,
   "id": "f41d0d0f",
   "metadata": {},
   "outputs": [],
   "source": [
    "def this_is_a_function_16(first_value, second_value, *args):\n",
    "    for arg in args:\n",
    "        print(arg)\n",
    "        \n",
    "    print(\"This is actually the first argument: {}\".format(first_value))\n",
    "    print(\"And this is the second argument: {}\".format(second_value))"
   ]
  },
  {
   "cell_type": "code",
   "execution_count": null,
   "id": "daa6f301",
   "metadata": {},
   "outputs": [],
   "source": [
    "this_is_a_function_16(\"test\", 4, 6.5, \"ah!\")"
   ]
  },
  {
   "cell_type": "markdown",
   "id": "162ccd71",
   "metadata": {},
   "source": [
    "So, you can pass any number of arguments. To make it even more confusing, let's call the same function as before, but refer to the defined arguments by keyword and see what happens:"
   ]
  },
  {
   "cell_type": "code",
   "execution_count": null,
   "id": "f20dee74",
   "metadata": {},
   "outputs": [],
   "source": [
    "this_is_a_function_16(6.5, \"ah!\", second_value = \"test\", first_value = 4)"
   ]
  },
  {
   "cell_type": "code",
   "execution_count": null,
   "id": "8b6be8ef",
   "metadata": {},
   "outputs": [],
   "source": [
    "this_is_a_function_16(second_value = \"test\", first_value = 4, 6.5, \"ah!\")"
   ]
  },
  {
   "cell_type": "code",
   "execution_count": null,
   "id": "00d3aa22",
   "metadata": {},
   "outputs": [],
   "source": [
    "this_is_a_function_16(first_value = 4, second_value = \"test\", 6.5, \"ah!\")"
   ]
  },
  {
   "cell_type": "markdown",
   "id": "8bed63d5",
   "metadata": {},
   "source": [
    "So, when you use the single \\*, positional arguments are expected, which means the order matters and you ought not use keyword names when calling the function if an unknown number of positional arguments are defined. If you want to refer to an unknown number of arguments by keyword, you have to use the double star \\*\\*  This can get a bit more confusing, but basically, this defines a function that can handle a dictionary (keyword value pairs) that is unknown!"
   ]
  },
  {
   "cell_type": "code",
   "execution_count": null,
   "id": "586e916d",
   "metadata": {},
   "outputs": [],
   "source": [
    "def this_is_a_function_17(**kwargs): \n",
    "    for key, value in kwargs.items():\n",
    "        print (\"%s == %s\" %(key, value))"
   ]
  },
  {
   "cell_type": "code",
   "execution_count": null,
   "id": "a42e0220",
   "metadata": {},
   "outputs": [],
   "source": [
    "this_is_a_function_17(var1 = \"ah\", var2 = \"number 2\", var3 = 48485)"
   ]
  },
  {
   "cell_type": "markdown",
   "id": "10286fdd",
   "metadata": {},
   "source": [
    "So, to solve the error that we got before when referring to keyword arguments when expecting unknown positional arguments, we can just define both...but still have to be careful of the order that values are defined in the function. For example, if we define it like this, we have the same problem as before:"
   ]
  },
  {
   "cell_type": "code",
   "execution_count": null,
   "id": "366eab12",
   "metadata": {},
   "outputs": [],
   "source": [
    "def this_is_a_function_18(first_value, second_value, *args, **kwargs): \n",
    "    \n",
    "    for arg in args:\n",
    "        print(arg)\n",
    "        \n",
    "    print(\"This is actually the first argument: {}\".format(first_value))\n",
    "    print(\"And this is the second argument: {}\".format(second_value))\n",
    "    \n",
    "    for key, value in kwargs.items():\n",
    "        print (\"%s == %s\" %(key, value))"
   ]
  },
  {
   "cell_type": "code",
   "execution_count": null,
   "id": "636effa6",
   "metadata": {},
   "outputs": [],
   "source": [
    "this_is_a_function_18(6.5, \"ah!\", second_value = \"test\", first_value = 4)"
   ]
  },
  {
   "cell_type": "markdown",
   "id": "1f56125c",
   "metadata": {},
   "source": [
    "But if we take the positional arguments first and define keyword arguments, the function works without any issues."
   ]
  },
  {
   "cell_type": "code",
   "execution_count": null,
   "id": "23910fdb",
   "metadata": {},
   "outputs": [],
   "source": [
    "def this_is_a_function_19(*args, first_value, second_value, **kwargs): \n",
    "    \n",
    "    for arg in args:\n",
    "        print(arg)\n",
    "        \n",
    "    print(\"This is actually a keyword argument: {}\".format(first_value))\n",
    "    print(\"And this is the second keyword argument: {}\".format(second_value))\n",
    "    \n",
    "    for key, value in kwargs.items():\n",
    "        print (\"%s == %s\" %(key, value))"
   ]
  },
  {
   "cell_type": "code",
   "execution_count": null,
   "id": "5922b94c",
   "metadata": {},
   "outputs": [],
   "source": [
    "this_is_a_function_19(6.5, \"ah!\", second_value = \"test\", first_value = 4)"
   ]
  },
  {
   "cell_type": "markdown",
   "id": "87e1e6ee",
   "metadata": {},
   "source": [
    "And finally, we can also give some keyword arguments as well as positional arguments default values..."
   ]
  },
  {
   "cell_type": "code",
   "execution_count": null,
   "id": "002486b6",
   "metadata": {},
   "outputs": [],
   "source": [
    "def this_is_a_function_20(first_pos, *args, first_kw = 56, second_kw = \"two\", **kwargs): \n",
    "    \n",
    "    print(\"This is actually the first argument: {}\".format(first_pos))\n",
    "    \n",
    "    for arg in args:\n",
    "        print(arg)\n",
    "        \n",
    "    print(\"This is actually a keyword argument: {}\".format(first_kw))\n",
    "    print(\"And this is the second keyword argument: {}\".format(second_kw))\n",
    "    \n",
    "    for key, value in kwargs.items():\n",
    "        print (\"%s == %s\" %(key, value))"
   ]
  },
  {
   "cell_type": "code",
   "execution_count": null,
   "id": "8b8b8d59",
   "metadata": {},
   "outputs": [],
   "source": [
    "this_is_a_function_20()"
   ]
  },
  {
   "cell_type": "code",
   "execution_count": null,
   "id": "068dbc81",
   "metadata": {},
   "outputs": [],
   "source": [
    "this_is_a_function_20(\"Hello!\")"
   ]
  },
  {
   "cell_type": "code",
   "execution_count": null,
   "id": "365d8bb0",
   "metadata": {},
   "outputs": [],
   "source": [
    "this_is_a_function_20(\"Hello!\", \"number 2\", \"number 3\")"
   ]
  },
  {
   "cell_type": "code",
   "execution_count": null,
   "id": "9b9d3b83",
   "metadata": {},
   "outputs": [],
   "source": [
    "this_is_a_function_20(\n",
    "    \"Hello!\", \"number 2\", \"number 3\",\n",
    "    programm = \"keyword program value\",\n",
    "    test = \"what is this nonsense?!\"\n",
    ")"
   ]
  },
  {
   "cell_type": "code",
   "execution_count": null,
   "id": "ba5451f3",
   "metadata": {},
   "outputs": [],
   "source": [
    "this_is_a_function_20(\n",
    "    \"Hello!\", \"number 2\", \"number 3\",\n",
    "    programm = \"keyword program value\",\n",
    "    test = \"what is this nonsense?!\",\n",
    "    second_kw = \"I changed this second value now!\"\n",
    ")"
   ]
  },
  {
   "cell_type": "code",
   "execution_count": null,
   "id": "f9b9c8a4",
   "metadata": {},
   "outputs": [],
   "source": [
    "this_is_a_function_20(\n",
    "    \"Hello!\", \"number 2\", \"number 3\",\n",
    "    programm = \"keyword program value\",\n",
    "    test = \"what is this nonsense?!\",\n",
    "    first_kw = \"I changed this first value now!\"\n",
    ")"
   ]
  },
  {
   "cell_type": "markdown",
   "id": "e19f1d48",
   "metadata": {},
   "source": [
    "Ok, maybe things are extra confusing now, but at least you know that there are multiple ways to pass values to a function... What you do with the values is completely up to you! ;)"
   ]
  },
  {
   "cell_type": "markdown",
   "id": "8957691d",
   "metadata": {},
   "source": [
    "One final thing... docstrings (https://peps.python.org/pep-0257/)! There are a few \"standards\" of how to define these, but docstrings are useful not only for internal documentation, but particularly to explain to users how to use a function/class/module. There are also methods to automatically convert all docstrings in a package into documentation (like Sphinx: https://www.sphinx-doc.org/en/master/)"
   ]
  },
  {
   "cell_type": "code",
   "execution_count": null,
   "id": "bc62d8a5",
   "metadata": {},
   "outputs": [],
   "source": [
    "def this_is_a_function_21(xyz, abc, num=None):\n",
    "    \"\"\"\n",
    "    Function that concatonates strings.\n",
    "\n",
    "    Parameters\n",
    "    ----------\n",
    "    xyz: <str>\n",
    "        First string.\n",
    "    abc: <str>\n",
    "        Second string.\n",
    "    num:\n",
    "        Optional numerical variable to be added as well.\n",
    "        \n",
    "\n",
    "    Returns\n",
    "    -------\n",
    "    <str>\n",
    "        Resulting string.\n",
    "    \"\"\"\n",
    "    output = '{} {}'.format(xyz, abc)\n",
    "    if num is not None:\n",
    "        num = str(num)\n",
    "        output = '{} {}'.format(output, num)\n",
    "    return output"
   ]
  },
  {
   "cell_type": "code",
   "execution_count": null,
   "id": "67b73321",
   "metadata": {},
   "outputs": [],
   "source": [
    "help(this_is_a_function_21)"
   ]
  },
  {
   "cell_type": "code",
   "execution_count": null,
   "id": "7a2048fa",
   "metadata": {},
   "outputs": [],
   "source": [
    "this_is_a_function_21(\"first string\", \"second string\")"
   ]
  },
  {
   "cell_type": "code",
   "execution_count": null,
   "id": "229aec8d",
   "metadata": {},
   "outputs": [],
   "source": [
    "this_is_a_function_21(\"first string\", \"second string\", 45.00)"
   ]
  },
  {
   "cell_type": "markdown",
   "id": "98c072b4",
   "metadata": {},
   "source": [
    "## Exercise\n",
    "\n",
    "Try to do the following:\n",
    "\n",
    "1. Define and then call functions that work in this document directly in the python interpreter (i.e. NOT in a notebook) and see what happens.\n",
    "    - Be sure to call the globals() and/or locals() functions from the interpreter after trying a few things. You will see that the output values are different between the notebook, which runs interactive Python (iPython) versus a standard Python interpreter...\n",
    "2. Write a function that takes three arguments and multiplies the first two arguments by each other and adds the third parameter to the multiplied value.\n",
    "    - See what happens if you give that function a non-numeric argument (e.g. string). Think about how you can handle such \"errors\".\n",
    "3. Define and call a function INSIDE another function -- this can be useful if you need to do the same thing multiple times within a function and nowhere else (again, just another way to limit or control scope...).\n",
    "4. Play around with the concept of recursion, which is where a function is defined and calls itself in its definition. This is a more advanced concept, but can be useful sometimes. See here for more details: https://www.geeksforgeeks.org/recursion-in-python/"
   ]
  },
  {
   "cell_type": "markdown",
   "id": "2287c8b1",
   "metadata": {},
   "source": [
    "If you feel like you have a good handle on the basics of functions, feel free to take a look at this introduction tutorial on classes: https://www.learnpython.org/en/Classes_and_Objects"
   ]
  },
  {
   "cell_type": "code",
   "execution_count": 51,
   "id": "526396fb",
   "metadata": {},
   "outputs": [],
   "source": [
    "def addition(num1, num2):\n",
    "    sum = num1 + num2\n",
    "    return sum"
   ]
  },
  {
   "cell_type": "code",
   "execution_count": 52,
   "id": "92ea2d83-e7c9-4e66-bbe9-ae68c9d709e0",
   "metadata": {},
   "outputs": [
    {
     "data": {
      "text/plain": [
       "3"
      ]
     },
     "execution_count": 52,
     "metadata": {},
     "output_type": "execute_result"
    }
   ],
   "source": [
    "addition(1, 2)"
   ]
  },
  {
   "cell_type": "code",
   "execution_count": 87,
   "id": "ac2617fa-8b5c-4834-b750-49ff2f74ab96",
   "metadata": {},
   "outputs": [],
   "source": [
    "######################################## 2 ############################################################\n",
    "def calc(num1, num2, num3):\n",
    "    if(isinstance(num1,str) == True) or (isinstance(num2,str) == True) or (isinstance(num2,str) == True):\n",
    "        print('give integer')\n",
    "    else:\n",
    "        multi = num1 * num2\n",
    "        result = multi + num3\n",
    "        return result"
   ]
  },
  {
   "cell_type": "code",
   "execution_count": 88,
   "id": "bd60583b-5dad-4d28-9799-708454147888",
   "metadata": {},
   "outputs": [
    {
     "data": {
      "text/plain": [
       "4"
      ]
     },
     "execution_count": 88,
     "metadata": {},
     "output_type": "execute_result"
    }
   ],
   "source": [
    "calc(2, 1, 2)"
   ]
  },
  {
   "cell_type": "code",
   "execution_count": 89,
   "id": "1567a84c-b764-4a50-b672-2661dcc3d6bf",
   "metadata": {},
   "outputs": [],
   "source": [
    "######################################## 3 ############################################################\n",
    "def calc(num1, num2, num3):\n",
    "    if(isinstance(num1,str) == True) or (isinstance(num2,str) == True) or (isinstance(num2,str) == True):\n",
    "        print('give integer')\n",
    "    else:\n",
    "        multi = num1 * num2\n",
    "        result = addition(multi, num3)\n",
    "        return result"
   ]
  },
  {
   "cell_type": "code",
   "execution_count": 90,
   "id": "601f283b-8ef8-4a8a-87c7-9ae799bbacae",
   "metadata": {},
   "outputs": [
    {
     "data": {
      "text/plain": [
       "4"
      ]
     },
     "execution_count": 90,
     "metadata": {},
     "output_type": "execute_result"
    }
   ],
   "source": [
    "calc(2, 1, 2)"
   ]
  },
  {
   "cell_type": "code",
   "execution_count": 112,
   "id": "44a48d7f-00cc-4d47-864b-907ee1e15106",
   "metadata": {},
   "outputs": [],
   "source": [
    "######################################## 4 ############################################################\n",
    "def calcUntil(start, finish):\n",
    "    if(start < finish):\n",
    "        print(start)\n",
    "        start = start + 1\n",
    "        calcUntil(start, finish)\n",
    "    else:\n",
    "        print('finish value reached:',start)"
   ]
  },
  {
   "cell_type": "code",
   "execution_count": 114,
   "id": "ba4e7e8f-c9f4-4273-bfb6-083891fabeac",
   "metadata": {},
   "outputs": [
    {
     "name": "stdout",
     "output_type": "stream",
     "text": [
      "4\n",
      "5\n",
      "6\n",
      "7\n",
      "8\n",
      "9\n",
      "finish value reached: 10\n"
     ]
    }
   ],
   "source": [
    "calcUntil(4, 10)"
   ]
  },
  {
   "cell_type": "code",
   "execution_count": null,
   "id": "ed7cf078-146f-4f2a-9bfb-740d78c1a32b",
   "metadata": {},
   "outputs": [],
   "source": []
  }
 ],
 "metadata": {
  "kernelspec": {
   "display_name": "Python 3 (ipykernel)",
   "language": "python",
   "name": "python3"
  },
  "language_info": {
   "codemirror_mode": {
    "name": "ipython",
    "version": 3
   },
   "file_extension": ".py",
   "mimetype": "text/x-python",
   "name": "python",
   "nbconvert_exporter": "python",
   "pygments_lexer": "ipython3",
   "version": "3.9.18"
  }
 },
 "nbformat": 4,
 "nbformat_minor": 5
}
